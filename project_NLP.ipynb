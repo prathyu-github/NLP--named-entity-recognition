{
 "cells": [
  {
   "cell_type": "code",
   "execution_count": 1,
   "metadata": {},
   "outputs": [],
   "source": [
    "import string #for strings  \n",
    "import re #regular expressions  \n",
    "import pandas as pd #for loading data,reading and manipulating  \n",
    "import matplotlib.pyplot as plt #for plotting  \n",
    "#sklearn is used to build machine learning machine  \n",
    "from sklearn import feature_extraction  \n",
    "from sklearn import linear_model  \n",
    "from sklearn.naive_bayes import MultinomialNB  \n",
    "from sklearn.linear_model import LogisticRegression  \n",
    "from sklearn.tree import DecisionTreeClassifier  \n",
    "from sklearn.ensemble import RandomForestClassifier  \n",
    "from sklearn import pipeline  \n",
    "from sklearn.model_selection import train_test_split  \n",
    "from sklearn import metrics  \n",
    "import itertools \n"
   ]
  },
  {
   "cell_type": "markdown",
   "metadata": {},
   "source": [
    "# Loading datasets"
   ]
  },
  {
   "cell_type": "code",
   "execution_count": 10,
   "metadata": {},
   "outputs": [],
   "source": [
    "#loading datasets\n",
    "eng_df = pd.read_csv(\"C:\\ML Projects\\code and datsets\\europarl_raw\\europarl_raw\\english\\ep-00-01-17.en\", \"utf-8\",engine='python', header=None, names=[\"English\"])    \n",
    "ger_df= pd.read_csv(\"C:\\ML Projects\\code and datsets\\europarl_raw\\europarl_raw\\german\\ep-00-01-17.de\",\"utf-8\", engine='python',header=None,names=[\"German\"])    \n",
    "#fre_df= pd.read_csv(\"C:\\ML Projects\\code and datsets\\europarl_raw\\europarl_raw\\french\\ep-00-01-20.fr\",\"utf-8\",engine='python',header=None,names=[\"French\"])\n"
   ]
  },
  {
   "cell_type": "markdown",
   "metadata": {},
   "source": [
    "# Removing special characters"
   ]
  },
  {
   "cell_type": "code",
   "execution_count": 11,
   "metadata": {},
   "outputs": [
    {
     "name": "stdout",
     "output_type": "stream",
     "text": [
      "THE SPECIAL CHARECTERS THAT ARE REMOVED ARE:\n",
      "! \" # $ % & ' ( ) * + , - . / : ; < = > ? @ [ \\ ] ^ _ ` { | } ~ "
     ]
    }
   ],
   "source": [
    "print (\"THE SPECIAL CHARECTERS THAT ARE REMOVED ARE:\",end=\"\\n\")    \n",
    "for char in string.punctuation:  \n",
    "    print(char,end=\" \")  \n",
    "translate_table=dict((ord(char),None) for char in string.punctuation)  \n"
   ]
  },
  {
   "cell_type": "markdown",
   "metadata": {},
   "source": [
    "### data preprocessing for english raw data"
   ]
  },
  {
   "cell_type": "code",
   "execution_count": 15,
   "metadata": {},
   "outputs": [],
   "source": [
    "data_eng=[]  \n",
    "lang_eng=[]  \n",
    "for i,line in eng_df.iterrows():  \n",
    "    line=line['English']  \n",
    "    if len(line) !=0:  \n",
    "        line = line.lower()  \n",
    "        line = re.sub(r\"\\d+\",\"\",line)  \n",
    "        line=line.translate(translate_table)  \n",
    "        data_eng.append(line)  \n",
    "        lang_eng.append(\"english\")  "
   ]
  },
  {
   "cell_type": "code",
   "execution_count": 16,
   "metadata": {},
   "outputs": [],
   "source": [
    "data_ger=[]  \n",
    "lang_ger=[]  \n",
    "for i,line in ger_df.iterrows():  \n",
    "    line=line['German']  \n",
    "    if len(line) !=0:  \n",
    "        line = line.lower()  \n",
    "        line = re.sub(r\"\\d+\",\"\",line)  \n",
    "        line=line.translate(translate_table)  \n",
    "        data_eng.append(line)  \n",
    "        lang_eng.append(\"german\")  "
   ]
  },
  {
   "cell_type": "code",
   "execution_count": 17,
   "metadata": {},
   "outputs": [
    {
     "name": "stdout",
     "output_type": "stream",
     "text": [
      "(1829, 2)\n"
     ]
    }
   ],
   "source": [
    "df=pd.DataFrame({\"Text\":data_eng+data_ger, \"language\":lang_eng+lang_ger})  \n",
    "print(df.shape)  "
   ]
  },
  {
   "cell_type": "markdown",
   "metadata": {},
   "source": [
    "### SPLITTING DATA INTO TRAIN AND TEST SETS(80:20)"
   ]
  },
  {
   "cell_type": "code",
   "execution_count": 18,
   "metadata": {},
   "outputs": [
    {
     "name": "stdout",
     "output_type": "stream",
     "text": [
      "ALLOCATION OF TRAIN AND DATA SETS\n",
      "(1463,)\n",
      "(366,)\n",
      "(1463,)\n",
      "(366,)\n"
     ]
    }
   ],
   "source": [
    "print (\"ALLOCATION OF TRAIN AND DATA SETS\",end=\"\\n\")  \n",
    "x,y = df.iloc[:,0],df.iloc[:,1]  \n",
    "x_train, x_test, y_train, y_test = train_test_split(x,y,test_size=0.2,random_state=0)    \n",
    "print(x_train.shape)  \n",
    "print(x_test.shape)  \n",
    "print(y_train.shape)  \n",
    "print(y_test.shape)  "
   ]
  },
  {
   "cell_type": "markdown",
   "metadata": {},
   "source": [
    "## VECTORIZATION AND MODEL FITTING PIPELINE  "
   ]
  },
  {
   "cell_type": "code",
   "execution_count": 19,
   "metadata": {},
   "outputs": [
    {
     "data": {
      "text/plain": [
       "Pipeline(steps=[('vectorizer',\n",
       "                 TfidfVectorizer(analyzer='char', ngram_range=(1, 3))),\n",
       "                ('clf', LogisticRegression())])"
      ]
     },
     "execution_count": 19,
     "metadata": {},
     "output_type": "execute_result"
    }
   ],
   "source": [
    "vectorizer = feature_extraction.text.TfidfVectorizer(ngram_range=(1,3),analyzer='char')    \n",
    "pipe_lr_r13 = pipeline.Pipeline([ ('vectorizer',vectorizer), ('clf',linear_model.LogisticRegression()) ])  \n",
    "pipe_lr_r13.fit(x_train,y_train)"
   ]
  },
  {
   "cell_type": "markdown",
   "metadata": {},
   "source": [
    "## MODEL PREDECTION"
   ]
  },
  {
   "cell_type": "code",
   "execution_count": 20,
   "metadata": {},
   "outputs": [],
   "source": [
    "y_predicted = pipe_lr_r13.predict(x_test)"
   ]
  },
  {
   "cell_type": "markdown",
   "metadata": {},
   "source": [
    "## MODEL EVOLUTION "
   ]
  },
  {
   "cell_type": "code",
   "execution_count": 21,
   "metadata": {},
   "outputs": [
    {
     "name": "stdout",
     "output_type": "stream",
     "text": [
      "ACCURACY SCORE\n",
      "100.0 %\n",
      "confusion matrix:\n",
      " [[191   0]\n",
      " [  0 175]]\n"
     ]
    }
   ],
   "source": [
    "print(\"ACCURACY SCORE\",end=\"\\n\")  \n",
    "acc = (metrics.accuracy_score(y_test,y_predicted))*100  \n",
    "print(acc,'%')  \n",
    "matrix = metrics.confusion_matrix(y_test,y_predicted)  \n",
    "print('confusion matrix:\\n',matrix) "
   ]
  },
  {
   "cell_type": "code",
   "execution_count": 25,
   "metadata": {},
   "outputs": [],
   "source": [
    "import pickle\n",
    "file=open('LRModel.pckl','wb')\n",
    "pickle.dump(pipe_lr_r13,file)"
   ]
  },
  {
   "cell_type": "code",
   "execution_count": 26,
   "metadata": {},
   "outputs": [
    {
     "name": "stdout",
     "output_type": "stream",
     "text": [
      "english\n",
      "german\n"
     ]
    }
   ],
   "source": [
    "def lang_detect(text):  \n",
    "    import numpy as np  \n",
    "    import string  \n",
    "    import re  \n",
    "    import pickle  \n",
    "    translate_table = dict((ord(char), None) for char in string.punctuation)    \n",
    "    global lrLangDetectModel  \n",
    "    lrLangDetectFile = open('LRModel.pckl','rb')  \n",
    "    lrLangDetectModel= pickle.load(lrLangDetectFile)  \n",
    "    lrLangDetectFile.close()  \n",
    "    text=\" \".join(text.split())  \n",
    "    text=text.lower()  \n",
    "    text=re.sub(r\"\\d+\",\"\",text)  \n",
    "    text=text.translate(translate_table)  \n",
    "    pred=lrLangDetectModel.predict([text])  \n",
    "    prob=lrLangDetectModel.predict_proba([text])  \n",
    "    return pred[0]  \n",
    "print(lang_detect(\"Hello i just built my own language detection model\"))  \n",
    "print(lang_detect(\"hello ,ich habe gerade main eigines sprancherkennugsmodel erstellt\"))  \n",
    "#print(lang_detect(\" Bonjourm je viens de crier mon propre\"))\n"
   ]
  },
  {
   "cell_type": "code",
   "execution_count": null,
   "metadata": {},
   "outputs": [],
   "source": []
  }
 ],
 "metadata": {
  "kernelspec": {
   "display_name": "Python 3",
   "language": "python",
   "name": "python3"
  },
  "language_info": {
   "codemirror_mode": {
    "name": "ipython",
    "version": 3
   },
   "file_extension": ".py",
   "mimetype": "text/x-python",
   "name": "python",
   "nbconvert_exporter": "python",
   "pygments_lexer": "ipython3",
   "version": "3.8.3"
  }
 },
 "nbformat": 4,
 "nbformat_minor": 5
}
